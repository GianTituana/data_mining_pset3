{
  "cells": [
    {
      "cell_type": "code",
      "execution_count": null,
      "metadata": {
        "id": "ORuHtmd3bPJ0"
      },
      "outputs": [],
      "source": [
        "%pip install snowflake-connector-python"
      ]
    },
    {
      "cell_type": "code",
      "execution_count": null,
      "metadata": {
        "id": "QYI3gb-f2i7g"
      },
      "outputs": [],
      "source": [
        "from pyspark.sql import functions as F\n",
        "from pyspark.sql import types as T\n",
        "from datetime import datetime\n",
        "import os\n",
        "\n",
        "# Leer variables de entorno\n",
        "SNOWFLAKE_ACCOUNT = os.getenv('SNOWFLAKE_ACCOUNT')\n",
        "SNOWFLAKE_USER = os.getenv('SNOWFLAKE_USER')\n",
        "SNOWFLAKE_PASSWORD = os.getenv('SNOWFLAKE_PASSWORD')\n",
        "SNOWFLAKE_DATABASE = os.getenv('SNOWFLAKE_DATABASE')\n",
        "SNOWFLAKE_SCHEMA_ANALYTICS = os.getenv('SNOWFLAKE_SCHEMA_ANALYTICS', 'ANALYTICS')\n",
        "SNOWFLAKE_WAREHOUSE = os.getenv('SNOWFLAKE_WAREHOUSE', 'COMPUTE_WH')"
      ]
    },
    {
      "cell_type": "code",
      "execution_count": null,
      "metadata": {
        "id": "9v4R0EkG1rft"
      },
      "outputs": [],
      "source": [
        "# Instalación de dependencias y descarga de JARs para Spark-Snowflake\n",
        "!pip install snowflake-snowpark-python snowflake-connector-python\n",
        "\n",
        "# Crear directorio para JARs si no existe\n",
        "import os\n",
        "jars_dir = '/content/jars'\n",
        "os.makedirs(jars_dir, exist_ok=True)\n",
        "\n",
        "# Descargar JARs necesarios para Spark 3.x con Scala 2.12\n",
        "# Snowflake Spark Connector compatible con Spark 3.x y Scala 2.12\n",
        "snowflake_jar_url = \"https://repo1.maven.org/maven2/net/snowflake/spark-snowflake_2.12/2.12.0-spark_3.4/spark-snowflake_2.12-2.12.0-spark_3.4.jar\"\n",
        "snowflake_jdbc_url = \"https://repo1.maven.org/maven2/net/snowflake/snowflake-jdbc/3.14.4/snowflake-jdbc-3.14.4.jar\"\n",
        "\n",
        "# Descargar JARs\n",
        "!wget -O {jars_dir}/spark-snowflake_2.12-2.12.0-spark_3.4.jar {snowflake_jar_url}\n",
        "!wget -O {jars_dir}/snowflake-jdbc-3.14.4.jar {snowflake_jdbc_url}\n",
        "\n",
        "print(\"JARs descargados exitosamente\")"
      ]
    },
    {
      "cell_type": "code",
      "execution_count": null,
      "metadata": {
        "colab": {
          "base_uri": "https://localhost:8080/"
        },
        "id": "_AOC_nmz5FkF",
        "outputId": "80649194-854d-47b6-c001-bd6bae0348ab"
      },
      "outputs": [],
      "source": [
        "!mkdir -p /content/jars\n",
        "!wget -q -O /content/jars/snowflake-jdbc-3.14.4.jar https://repo1.maven.org/maven2/net/snowflake/snowflake-jdbc/3.14.4/snowflake-jdbc-3.14.4.jar\n",
        "!wget -q -O /content/jars/spark-snowflake_2.12-2.12.0-spark_3.4.jar https://repo1.maven.org/maven2/net/snowflake/spark-snowflake_2.12/2.12.0-spark_3.4/spark-snowflake_2.12-2.12.0-spark_3.4.jar\n",
        "!ls -lh /content/jars\n"
      ]
    },
    {
      "cell_type": "code",
      "execution_count": null,
      "metadata": {
        "colab": {
          "base_uri": "https://localhost:8080/"
        },
        "id": "tSQXvMs62J24",
        "outputId": "4e7a3625-b451-437a-8e03-749483018781"
      },
      "outputs": [],
      "source": [
        "# Importar PySpark\n",
        "from pyspark.sql import SparkSession\n",
        "from pyspark.sql import functions as F\n",
        "from pyspark.sql.types import *\n",
        "import random\n",
        "from pyspark.sql import types as T\n",
        "\n",
        "from datetime import datetime, timedelta\n",
        "\n",
        "\n",
        "# Configuración de JARs para Snowflake\n",
        "jars_dir = '/content/jars'\n",
        "spark_jars = f\"{jars_dir}/spark-snowflake_2.12-2.12.0-spark_3.4.jar,{jars_dir}/snowflake-jdbc-3.14.4.jar\"\n",
        "\n",
        "# Crear sesión Spark simple\n",
        "print(\"Creando sesión Spark...\")\n",
        "\n",
        "spark = SparkSession.builder \\\n",
        "    .appName(\"NYC_Taxi_OBT_Analysis\") \\\n",
        "    .config(\"spark.jars\", \"/content/jars/snowflake-jdbc-3.14.4.jar,/content/jars/spark-snowflake_2.12-2.12.0-spark_3.4.jar\") \\\n",
        "    .config(\"spark.executor.memory\", \"4g\") \\\n",
        "    .config(\"spark.driver.memory\", \"4g\") \\\n",
        "    .getOrCreate()\n",
        "\n",
        "print(f\" Spark iniciado correctamente. Versión: {spark.version}\")\n",
        "\n",
        "\n",
        "test_count = spark.range(5).count()\n",
        "print(f\"Spark funcionando correctamente - Test: {test_count} registros\")\n",
        "print(f\"Versión Spark: {spark.version}\")\n",
        "\n",
        "# Mostrar configuración activa\n",
        "print(f\"JARs configurados: {len(spark_jars.split(','))} archivos\")"
      ]
    },
    {
      "cell_type": "code",
      "execution_count": null,
      "metadata": {
        "colab": {
          "base_uri": "https://localhost:8080/"
        },
        "id": "hG7xw75jZBNc",
        "outputId": "fa1301ef-bc88-4035-8570-5c21aad55cf2"
      },
      "outputs": [],
      "source": [
        "sfOptions = {\n",
        "    \"sfURL\": SNOWFLAKE_ACCOUNT,\n",
        "    \"sfUser\": SNOWFLAKE_USER,\n",
        "    \"sfPassword\": SNOWFLAKE_PASSWORD,\n",
        "    \"sfDatabase\": SNOWFLAKE_DATABASE,\n",
        "    \"sfSchema\": SNOWFLAKE_SCHEMA_ANALYTICS,\n",
        "    \"sfWarehouse\": SNOWFLAKE_WAREHOUSE,\n",
        "}\n",
        "\n",
        "df = (\n",
        "    spark.read\n",
        "        .format(\"net.snowflake.spark.snowflake\")\n",
        "        .options(**sfOptions)\n",
        "        .option(\"dbtable\", \"OBT_TRIPS\")\n",
        "        .load()\n",
        ")\n",
        "\n",
        "df.show(5, truncate=False)\n"
      ]
    },
    {
      "cell_type": "code",
      "execution_count": null,
      "metadata": {
        "colab": {
          "base_uri": "https://localhost:8080/"
        },
        "id": "jknz91TacQZQ",
        "outputId": "69401d6a-22be-4245-d4d2-ff8d64b8b93a"
      },
      "outputs": [],
      "source": [
        "# CONFIGURACIÓN INICIAL PARA VALIDACIONES\n",
        "print(\"=== VALIDACIONES Y EXPLORACIÓN - OBT NYC TAXI ===\")\n",
        "\n",
        "# Conexión a Snowflake (reutilizar configuración del notebook anterior)\n",
        "try:\n",
        "    import snowflake.connector\n",
        "    import time\n",
        "    from datetime import datetime\n",
        "\n",
        "    print(\"snowflake-connector-python disponible\")\n",
        "\n",
        "    # Configuración de conexión\n",
        "\n",
        "    conn_config = {\n",
        "        'user': SNOWFLAKE_USER,\n",
        "        'password': SNOWFLAKE_PASSWORD,\n",
        "        'account': SNOWFLAKE_ACCOUNT,\n",
        "        'warehouse': SNOWFLAKE_WAREHOUSE,\n",
        "        'database': SNOWFLAKE_DATABASE,\n",
        "        'schema': SNOWFLAKE_SCHEMA_ANALYTICS\n",
        "    }\n",
        "    \n",
        "    def execute_snowflake_sql(sql_query, fetch_results=True):\n",
        "        \"\"\"\n",
        "        Ejecuta SQL directamente en Snowflake con resultados\n",
        "        \"\"\"\n",
        "        try:\n",
        "            conn = snowflake.connector.connect(**conn_config)\n",
        "            cursor = conn.cursor()\n",
        "\n",
        "            cursor.execute(sql_query)\n",
        "\n",
        "            if fetch_results:\n",
        "                results = cursor.fetchall()\n",
        "                columns = [desc[0] for desc in cursor.description]\n",
        "                return results, columns\n",
        "            else:\n",
        "                rows_affected = cursor.rowcount\n",
        "                print(f\" SQL ejecutado. Filas afectadas: {rows_affected:,}\")\n",
        "                return rows_affected, []\n",
        "\n",
        "        except Exception as e:\n",
        "            print(f\"Error ejecutando SQL: {e}\")\n",
        "            return None, []\n",
        "        finally:\n",
        "            try:\n",
        "                cursor.close()\n",
        "                conn.close()\n",
        "            except:\n",
        "                pass\n",
        "\n",
        "except ImportError:\n",
        "    print(\"snowflake-connector-python no instalado\")\n",
        "    print(\"Instalar con: pip install snowflake-connector-python\")\n",
        "\n",
        "    def execute_snowflake_sql(sql_query, fetch_results=True):\n",
        "        print(\"Connector no disponible. SQL para ejecutar manualmente:\")\n",
        "        print(\"-\" * 60)\n",
        "        print(sql_query)\n",
        "        print(\"-\" * 60)\n",
        "        return None, []\n",
        "\n",
        "print(\" Configuración lista para preguntas de negocio en analytics.obt_trips\")"
      ]
    },
    {
      "cell_type": "markdown",
      "metadata": {
        "id": "9Mp6fosUa4-1"
      },
      "source": [
        "## Debido al tiempo que tomaban en ejecutarse no se pudo ejecutar todo con spark, sin embargo se añadieron las consultas utilizando el conector de snowflake con python."
      ]
    },
    {
      "cell_type": "code",
      "execution_count": null,
      "metadata": {
        "colab": {
          "base_uri": "https://localhost:8080/"
        },
        "id": "x2J61d4cYIqo",
        "outputId": "2da5258b-c196-41c1-8a3f-af53af25d59a"
      },
      "outputs": [],
      "source": [
        "# A. TOP 10 ZONAS PICKUP POR VOLUMEN MENSUAL\n",
        "print(\"ANÁLISIS A: Top 10 Zonas Pickup por Volumen Mensual\")\n",
        "\n",
        "# Top 10 zonas de pickup por volumen mensual\n",
        "top_pickup_monthly = (\n",
        "    df.groupBy(\"month\", \"pu_zone\", \"pu_borough\")\n",
        "    .agg(F.count(\"*\").alias(\"num_trips\"))\n",
        "    .orderBy(\"month\", F.col(\"num_trips\").desc())\n",
        ")\n",
        "\n",
        "print(\"TOP 10 ZONAS PICKUP POR VOLUMEN MENSUAL:\")\n",
        "top_pickup_monthly.show(10)"
      ]
    },
    {
      "cell_type": "code",
      "execution_count": null,
      "metadata": {
        "colab": {
          "base_uri": "https://localhost:8080/"
        },
        "id": "VnDCdFHCblKx",
        "outputId": "1abb9802-e14e-419c-e39d-3ed20e6d5ca9"
      },
      "outputs": [],
      "source": [
        "# A. TOP 10 ZONAS PICKUP POR VOLUMEN MENSUAL - VERSIÓN SNOWFLAKE CONNECTOR\n",
        "print(\"ANÁLISIS A: Top 10 Zonas Pickup por Volumen Mensual\")\n",
        "\n",
        "# Consulta SQL directa usando conector de Snowflake\n",
        "sql_pickup_zones = \"\"\"\n",
        "SELECT\n",
        "    month,\n",
        "    pu_zone,\n",
        "    pu_borough,\n",
        "    COUNT(*) as num_trips\n",
        "FROM analytics.obt_trips\n",
        "WHERE pu_zone IS NOT NULL\n",
        "GROUP BY month, pu_zone, pu_borough\n",
        "ORDER BY month, COUNT(*) DESC\n",
        "LIMIT 10\n",
        "\"\"\"\n",
        "execute_snowflake_sql(sql_pickup_zones)"
      ]
    },
    {
      "cell_type": "code",
      "execution_count": null,
      "metadata": {
        "id": "rBtx1R_-fNvf"
      },
      "outputs": [],
      "source": [
        "# B. TOP 10 ZONAS DROPOFF POR VOLUMEN MENSUAL\n",
        "print(\"ANÁLISIS B: Top 10 Zonas Dropoff por Volumen Mensual\")\n",
        "\n",
        "# Top 10 zonas de dropoff por volumen mensual\n",
        "top_dropoff_monthly = (\n",
        "    df.groupBy(\"month\", \"do_zone\", \"do_borough\")\n",
        "    .agg(F.count(\"*\").alias(\"num_trips\"))\n",
        "    .orderBy(\"month\", F.col(\"num_trips\").desc())\n",
        ")\n",
        "\n",
        "print(\"TOP 10 ZONAS DROPOFF POR VOLUMEN MENSUAL:\")\n",
        "top_dropoff_monthly.show(10)"
      ]
    },
    {
      "cell_type": "code",
      "execution_count": null,
      "metadata": {
        "colab": {
          "base_uri": "https://localhost:8080/"
        },
        "id": "VJch79pWYQDR",
        "outputId": "be394fa7-289e-477d-bcf8-02ba064c4b83"
      },
      "outputs": [],
      "source": [
        "# B. TOP 10 ZONAS DROPOFF POR VOLUMEN MENSUAL\n",
        "print(\"ANÁLISIS B: Top 10 Zonas Dropoff por Volumen Mensual\")\n",
        "\n",
        "# Consulta SQL directa usando conector de Snowflake\n",
        "query = \"\"\"\n",
        "SELECT\n",
        "    month,\n",
        "    do_zone,\n",
        "    do_borough,\n",
        "    COUNT(*) as num_trips\n",
        "FROM analytics.obt_trips\n",
        "WHERE do_zone IS NOT NULL\n",
        "GROUP BY month, do_zone, do_borough\n",
        "ORDER BY month ASC, COUNT(*) DESC\n",
        "limit 10\n",
        "\"\"\"\n",
        "execute_snowflake_sql(query)"
      ]
    },
    {
      "cell_type": "code",
      "execution_count": null,
      "metadata": {
        "id": "j1p7sTcGgWkE"
      },
      "outputs": [],
      "source": [
        "# C. EVOLUCIÓN MENSUAL DE TOTAL_AMOUNT Y TIP_PCT POR BOROUGH\n",
        "print(\"ANÁLISIS C: Evolución Mensual de Total_Amount y Tip_Pct por Borough\")\n",
        "\n",
        "# Evolución mensual de total_amount y tip_pct por borough\n",
        "evolution_monthly = (\n",
        "    df.groupBy(\"year\", \"month\", \"pu_borough\")\n",
        "    .agg(F.round(F.avg(\"total_amount\"), 2).alias(\"avg_total_amount\"),\n",
        "         F.round(F.avg(\"tip_pct\"), 2).alias(\"avg_tip_pct\"))\n",
        "    .orderBy(\"year\", \"month\", \"pu_borough\")\n",
        ")\n",
        "\n",
        "print(\"EVOLUCIÓN MENSUAL DE TOTAL_AMOUNT Y TIP_PCT POR BOROUGH:\")\n",
        "evolution_monthly.show(10)"
      ]
    },
    {
      "cell_type": "code",
      "execution_count": null,
      "metadata": {
        "colab": {
          "base_uri": "https://localhost:8080/"
        },
        "id": "4ygbxZouYRj8",
        "outputId": "5f7cd488-f524-4b15-9d70-825eca5a5de1"
      },
      "outputs": [],
      "source": [
        "# C. EVOLUCIÓN MENSUAL DE TOTAL_AMOUNT Y TIP_PCT POR BOROUGH\n",
        "print(\"ANÁLISIS C: Evolución Mensual de Total_Amount y Tip_Pct por Borough\")\n",
        "\n",
        "# Consulta SQL directa usando conector de Snowflake\n",
        "query = \"\"\"\n",
        "SELECT\n",
        "    year,\n",
        "    month,\n",
        "    pu_borough,\n",
        "    ROUND(AVG(total_amount), 2) AS avg_total_amount,\n",
        "    ROUND(AVG(tip_pct), 2) AS avg_tip_pct\n",
        "FROM analytics.obt_trips\n",
        "WHERE pu_borough IS NOT NULL\n",
        "GROUP BY year, month, pu_borough\n",
        "ORDER BY year, month, pu_borough;\n",
        "\"\"\"\n",
        "execute_snowflake_sql(query)"
      ]
    },
    {
      "cell_type": "code",
      "execution_count": null,
      "metadata": {
        "id": "5bJEYWtSYTXP"
      },
      "outputs": [],
      "source": [
        "# D. TICKET PROMEDIO POR SERVICE_TYPE Y MES\n",
        "print(\"ANÁLISIS D: Ticket Promedio por Service_Type y Mes\")\n",
        "\n",
        "# Ticket promedio por service_type y mes\n",
        "ticket_monthly = (\n",
        "    df.groupBy(\"year\", \"month\", \"service_type\")\n",
        "    .agg(F.round(F.avg(\"total_amount\"), 2).alias(\"avg_ticket\"))\n",
        "    .orderBy(\"year\", \"month\", \"service_type\")\n",
        ")\n",
        "\n",
        "print(\"TICKET PROMEDIO POR SERVICE_TYPE Y MES:\")\n",
        "ticket_monthly.show(50)"
      ]
    },
    {
      "cell_type": "code",
      "execution_count": null,
      "metadata": {
        "colab": {
          "base_uri": "https://localhost:8080/"
        },
        "id": "Pwse9-2tg0Cj",
        "outputId": "66732019-ead4-4128-8eb6-eabb5dc9ca56"
      },
      "outputs": [],
      "source": [
        "# D. TICKET PROMEDIO POR SERVICE_TYPE Y MES\n",
        "print(\"ANÁLISIS D: Ticket Promedio por Service_Type y Mes\")\n",
        "\n",
        "# Consulta SQL directa usando conector de Snowflake\n",
        "query = \"\"\"\n",
        "SELECT\n",
        "    year,\n",
        "    month,\n",
        "    service_type,\n",
        "    ROUND(AVG(total_amount), 2) AS avg_ticket\n",
        "FROM analytics.obt_trips\n",
        "WHERE service_type IS NOT NULL\n",
        "    AND total_amount IS NOT NULL\n",
        "GROUP BY year, month, service_type\n",
        "ORDER BY year, month, service_type\n",
        "\"\"\"\n",
        "execute_snowflake_sql(query)"
      ]
    },
    {
      "cell_type": "code",
      "execution_count": null,
      "metadata": {
        "id": "qLqJOC38YUtC"
      },
      "outputs": [],
      "source": [
        "# E. VIAJES POR HORA DEL DÍA Y DÍA DE SEMANA (PICOS)\n",
        "print(\"ANÁLISIS E: Viajes por Hora del Día y Día de Semana (Picos)\")\n",
        "\n",
        "# Viajes por hora del día y día de semana para identificar picos\n",
        "hourly_daily_patterns = (\n",
        "    df.groupBy(\"pickup_hour\", \"day_of_week\", \"is_weekend\")\n",
        "    .agg(F.count(\"*\").alias(\"total_trips\"))\n",
        "    .orderBy(\"pickup_hour\", \"day_of_week\")\n",
        ")\n",
        "\n",
        "print(\"VIAJES POR HORA DEL DÍA Y DÍA DE SEMANA (PICOS):\")\n",
        "hourly_daily_patterns.show(50)"
      ]
    },
    {
      "cell_type": "code",
      "execution_count": null,
      "metadata": {
        "colab": {
          "base_uri": "https://localhost:8080/"
        },
        "id": "5FgWo46KhJVs",
        "outputId": "c207d1f8-2593-4156-eb1f-27df5af6c15d"
      },
      "outputs": [],
      "source": [
        "# E. VIAJES POR HORA DEL DÍA Y DÍA DE SEMANA (PICOS)\n",
        "print(\"ANÁLISIS E: Viajes por Hora del Día y Día de Semana (Picos)\")\n",
        "\n",
        "# Consulta SQL directa usando conector de Snowflake\n",
        "query = \"\"\"\n",
        "SELECT\n",
        "    pickup_hour,\n",
        "    day_of_week,\n",
        "    is_weekend,\n",
        "    COUNT(*) AS total_trips\n",
        "FROM analytics.obt_trips\n",
        "WHERE pickup_hour IS NOT NULL\n",
        "    AND day_of_week IS NOT NULL\n",
        "    AND is_weekend IS NOT NULL\n",
        "GROUP BY pickup_hour, day_of_week, is_weekend\n",
        "ORDER BY pickup_hour, day_of_week;\n",
        "\"\"\"\n",
        "execute_snowflake_sql(query)"
      ]
    },
    {
      "cell_type": "code",
      "execution_count": null,
      "metadata": {
        "id": "kUyIAWd5YWT6"
      },
      "outputs": [],
      "source": [
        "# F. P50/P90 DE TRIP_DURATION_MIN POR BOROUGH DE PICKUP\n",
        "print(\"ANÁLISIS F: P50/P90 de Trip_Duration_Min por Borough de Pickup\")\n",
        "\n",
        "# P50/P90 de trip_duration_min por borough de pickup\n",
        "duration_percentiles = (\n",
        "    df.groupBy(\"pu_borough\")\n",
        "    .agg(F.round(F.expr(\"percentile_approx(trip_duration_min, 0.5)\"), 2).alias(\"p50_duration\"),\n",
        "         F.round(F.expr(\"percentile_approx(trip_duration_min, 0.9)\"), 2).alias(\"p90_duration\"))\n",
        "    .orderBy(\"pu_borough\")\n",
        ")\n",
        "\n",
        "print(\"P50/P90 DE TRIP_DURATION_MIN POR BOROUGH DE PICKUP:\")\n",
        "duration_percentiles.show()"
      ]
    },
    {
      "cell_type": "code",
      "execution_count": null,
      "metadata": {
        "colab": {
          "base_uri": "https://localhost:8080/"
        },
        "id": "KdGwiHbZhkjA",
        "outputId": "5080a088-720b-4ff7-a228-2797749ee0a9"
      },
      "outputs": [],
      "source": [
        "# F. P50/P90 DE TRIP_DURATION_MIN POR BOROUGH DE PICKUP\n",
        "print(\"ANÁLISIS F: P50/P90 de Trip_Duration_Min por Borough de Pickup\")\n",
        "\n",
        "# Consulta SQL directa usando conector de Snowflake\n",
        "query = \"\"\"\n",
        "SELECT\n",
        "    pu_borough,\n",
        "    APPROX_PERCENTILE(trip_duration_min, 0.5) AS p50_duration,\n",
        "    APPROX_PERCENTILE(trip_duration_min, 0.9) AS p90_duration\n",
        "FROM analytics.obt_trips\n",
        "WHERE pu_borough IS NOT NULL\n",
        "  AND trip_duration_min > 0\n",
        "GROUP BY pu_borough\n",
        "ORDER BY pu_borough;\n",
        "\"\"\"\n",
        "execute_snowflake_sql(query)"
      ]
    },
    {
      "cell_type": "code",
      "execution_count": null,
      "metadata": {
        "id": "RBtIU51WYXyg"
      },
      "outputs": [],
      "source": [
        "# G. AVG_SPEED_MPH POR FRANJA HORARIA (6–9, 17–20) Y BOROUGH\n",
        "print(\"ANÁLISIS G: Avg_Speed_Mph por Franja Horaria (6–9, 17–20) y Borough\")\n",
        "\n",
        "# Crear franja horaria y agrupar por franja y borough\n",
        "speed_by_timeframe_borough = (\n",
        "    df.withColumn(\"franja_horaria\",\n",
        "                  F.when((F.col(\"pickup_hour\") >= 6) & (F.col(\"pickup_hour\") <= 9), \"Mañana (6-9h)\")\n",
        "                   .when((F.col(\"pickup_hour\") >= 17) & (F.col(\"pickup_hour\") <= 20), \"Tarde (17-20h)\")\n",
        "                   .otherwise(\"Otras horas\"))\n",
        "    .filter(F.col(\"franja_horaria\") != \"Otras horas\")\n",
        "    .groupBy(\"franja_horaria\", \"pu_borough\")\n",
        "    .agg(F.round(F.avg(\"avg_speed_mph\"), 2).alias(\"avg_speed_mph\"))\n",
        "    .orderBy(\"franja_horaria\", \"pu_borough\")\n",
        ")\n",
        "\n",
        "print(\"AVG_SPEED_MPH POR FRANJA HORARIA (6–9, 17–20) Y BOROUGH:\")\n",
        "speed_by_timeframe_borough.show()"
      ]
    },
    {
      "cell_type": "code",
      "execution_count": null,
      "metadata": {
        "colab": {
          "base_uri": "https://localhost:8080/"
        },
        "id": "ixtXbAM8h_Um",
        "outputId": "5d219a1c-1069-4b10-d1cd-6f0b1507a259"
      },
      "outputs": [],
      "source": [
        "# G. AVG_SPEED_MPH POR FRANJA HORARIA (6–9, 17–20) Y BOROUGH\n",
        "print(\"ANÁLISIS G: Avg_Speed_Mph por Franja Horaria (6–9, 17–20) y Borough\")\n",
        "\n",
        "# Consulta SQL directa usando conector de Snowflake\n",
        "query = \"\"\"\n",
        "SELECT\n",
        "    CASE\n",
        "        WHEN pickup_hour BETWEEN 6 AND 9 THEN 'Mañana (6-9h)'\n",
        "        WHEN pickup_hour BETWEEN 17 AND 20 THEN 'Tarde (17-20h)'\n",
        "    END AS franja_horaria,\n",
        "    pu_borough,\n",
        "    ROUND(AVG(avg_speed_mph), 2) AS avg_speed_mph\n",
        "FROM analytics.obt_trips\n",
        "WHERE pickup_hour IS NOT NULL\n",
        "    AND pu_borough IS NOT NULL\n",
        "    AND avg_speed_mph IS NOT NULL\n",
        "    AND (\n",
        "        (pickup_hour BETWEEN 6 AND 9) OR\n",
        "        (pickup_hour BETWEEN 17 AND 20)\n",
        "    )\n",
        "GROUP BY\n",
        "    CASE\n",
        "        WHEN pickup_hour BETWEEN 6 AND 9 THEN 'Mañana (6-9h)'\n",
        "        WHEN pickup_hour BETWEEN 17 AND 20 THEN 'Tarde (17-20h)'\n",
        "    END,\n",
        "    pu_borough\n",
        "ORDER BY franja_horaria, pu_borough;\n",
        "\"\"\"\n",
        "execute_snowflake_sql(query)"
      ]
    },
    {
      "cell_type": "code",
      "execution_count": null,
      "metadata": {
        "id": "9ZQXXS73YZZJ"
      },
      "outputs": [],
      "source": [
        "# H. PARTICIPACIÓN POR PAYMENT_TYPE_DESC Y SU RELACIÓN CON TIP_PCT\n",
        "print(\"ANÁLISIS H: Participación por Payment_Type_Desc y su Relación con Tip_Pct\")\n",
        "\n",
        "# Participación por payment_type_desc y su relación con tip_pct\n",
        "payment_participation_tips = (\n",
        "    df.groupBy(\"payment_type_desc\")\n",
        "    .agg(F.count(\"*\").alias(\"total_trips\"),\n",
        "         F.round(F.avg(\"tip_pct\"), 2).alias(\"avg_tip_pct\"),\n",
        "         F.round(F.count(\"*\") * 100.0 / df.count(), 2).alias(\"participacion_pct\"))\n",
        "    .orderBy(F.col(\"total_trips\").desc())\n",
        ")\n",
        "\n",
        "print(\"PARTICIPACIÓN POR PAYMENT_TYPE_DESC Y SU RELACIÓN CON TIP_PCT:\")\n",
        "payment_participation_tips.show()"
      ]
    },
    {
      "cell_type": "code",
      "execution_count": null,
      "metadata": {
        "colab": {
          "base_uri": "https://localhost:8080/"
        },
        "id": "dMxYp-hkiY_e",
        "outputId": "1428b630-579a-4806-a39e-0a1fc0837c76"
      },
      "outputs": [],
      "source": [
        "# H. PARTICIPACIÓN POR PAYMENT_TYPE_DESC Y SU RELACIÓN CON TIP_PCT\n",
        "print(\"ANÁLISIS H: Participación por Payment_Type_Desc y su Relación con Tip_Pct\")\n",
        "\n",
        "# Consulta SQL directa usando conector de Snowflake\n",
        "query = \"\"\"\n",
        "WITH total_dataset AS (\n",
        "    SELECT COUNT(*) as total_records\n",
        "    FROM analytics.obt_trips\n",
        "    WHERE payment_type_desc IS NOT NULL\n",
        ")\n",
        "SELECT\n",
        "    payment_type_desc,\n",
        "    COUNT(*) AS total_trips,\n",
        "    ROUND(AVG(tip_pct), 2) AS avg_tip_pct,\n",
        "    ROUND((COUNT(*) * 100.0 / (SELECT total_records FROM total_dataset)), 2) AS participacion_pct\n",
        "FROM analytics.obt_trips\n",
        "WHERE payment_type_desc IS NOT NULL\n",
        "    AND tip_pct IS NOT NULL\n",
        "GROUP BY payment_type_desc\n",
        "ORDER BY COUNT(*) DESC;\n",
        "\"\"\"\n",
        "execute_snowflake_sql(query)"
      ]
    },
    {
      "cell_type": "code",
      "execution_count": null,
      "metadata": {
        "id": "wKV0v9_tYcvv"
      },
      "outputs": [],
      "source": [
        "# I. ¿QUÉ RATE_CODE_DESC CONCENTRAN MAYOR TRIP_DISTANCE Y TOTAL_AMOUNT?\n",
        "print(\"ANÁLISIS I: ¿Qué Rate_Code_Desc concentran mayor Trip_Distance y Total_Amount?\")\n",
        "\n",
        "# Análisis de rate_code_desc por trip_distance y total_amount\n",
        "rate_code_analysis = (\n",
        "    df.groupBy(\"rate_code_desc\")\n",
        "    .agg(F.round(F.avg(\"trip_distance\"), 2).alias(\"avg_trip_distance\"),\n",
        "         F.round(F.avg(\"total_amount\"), 2).alias(\"avg_total_amount\"),\n",
        "         F.count(\"*\").alias(\"total_trips\"))\n",
        "    .orderBy(F.col(\"avg_trip_distance\").desc(), F.col(\"avg_total_amount\").desc())\n",
        ")\n",
        "\n",
        "print(\"¿QUÉ RATE_CODE_DESC CONCENTRAN MAYOR TRIP_DISTANCE Y TOTAL_AMOUNT?:\")\n",
        "rate_code_analysis.show()"
      ]
    },
    {
      "cell_type": "code",
      "execution_count": null,
      "metadata": {
        "colab": {
          "base_uri": "https://localhost:8080/"
        },
        "id": "ivMM3P73jGsi",
        "outputId": "d4107299-4b9a-49d3-9a0d-5ab70a0cef9b"
      },
      "outputs": [],
      "source": [
        "# I. ¿QUÉ RATE_CODE_DESC CONCENTRAN MAYOR TRIP_DISTANCE Y TOTAL_AMOUNT?\n",
        "print(\"ANÁLISIS I: ¿Qué Rate_Code_Desc concentran mayor Trip_Distance y Total_Amount?\")\n",
        "\n",
        "# Consulta SQL directa usando conector de Snowflake\n",
        "query = \"\"\"\n",
        "SELECT\n",
        "    rate_code_desc,\n",
        "    ROUND(AVG(trip_distance), 2) AS avg_trip_distance,\n",
        "    ROUND(AVG(total_amount), 2) AS avg_total_amount,\n",
        "    COUNT(*) AS total_trips\n",
        "FROM analytics.obt_trips\n",
        "WHERE rate_code_desc IS NOT NULL\n",
        "    AND trip_distance IS NOT NULL\n",
        "    AND total_amount IS NOT NULL\n",
        "GROUP BY rate_code_desc\n",
        "ORDER BY AVG(trip_distance) DESC, AVG(total_amount) DESC;\n",
        "\"\"\"\n",
        "execute_snowflake_sql(query)"
      ]
    },
    {
      "cell_type": "code",
      "execution_count": null,
      "metadata": {
        "id": "658yP0KDYeam"
      },
      "outputs": [],
      "source": [
        "# J. MIX YELLOW VS GREEN POR MES Y BOROUGH\n",
        "print(\"ANÁLISIS J: Mix Yellow vs Green por Mes y Borough\")\n",
        "\n",
        "# Análisis del mix de servicios yellow vs green por mes y borough de pickup\n",
        "yellow_green_mix_monthly = (\n",
        "    df.filter(F.col(\"service_type\").isin([\"yellow\", \"green\"]))\n",
        "    .groupBy(\"year\", \"month\", \"pu_borough\", \"service_type\")\n",
        "    .agg(F.count(\"*\").alias(\"total_trips\"),\n",
        "         F.round(F.avg(\"total_amount\"), 2).alias(\"avg_fare\"))\n",
        "    .withColumn(\"total_by_month_borough\", F.sum(\"total_trips\").over(F.Window.partitionBy(\"year\", \"month\", \"pu_borough\")))\n",
        "    .withColumn(\"service_mix_pct\", F.round((F.col(\"total_trips\") * 100.0 / F.col(\"total_by_month_borough\")), 2))\n",
        "    .orderBy(\"year\", \"month\", \"pu_borough\", \"service_type\")\n",
        ")\n",
        "\n",
        "print(\"MIX YELLOW VS GREEN POR MES Y BOROUGH:\")\n",
        "yellow_green_mix_monthly.show(50)"
      ]
    },
    {
      "cell_type": "code",
      "execution_count": null,
      "metadata": {
        "colab": {
          "base_uri": "https://localhost:8080/"
        },
        "id": "iLaXJZ-vjXEq",
        "outputId": "92f97bd8-30f6-4e86-d876-227249df6a40"
      },
      "outputs": [],
      "source": [
        "# J. MIX YELLOW VS GREEN POR MES Y BOROUGH\n",
        "print(\"ANÁLISIS J: Mix Yellow vs Green por Mes y Borough\")\n",
        "\n",
        "# Consulta SQL directa usando conector de Snowflake\n",
        "query = \"\"\"\n",
        "WITH service_counts AS (\n",
        "    SELECT\n",
        "        year,\n",
        "        month,\n",
        "        pu_borough,\n",
        "        service_type,\n",
        "        COUNT(*) as total_trips,\n",
        "        ROUND(AVG(total_amount), 2) as avg_fare\n",
        "    FROM analytics.obt_trips\n",
        "    WHERE service_type IN ('yellow', 'green')\n",
        "        AND pu_borough IS NOT NULL\n",
        "    GROUP BY year, month, pu_borough, service_type\n",
        "),\n",
        "monthly_totals AS (\n",
        "    SELECT\n",
        "        year,\n",
        "        month,\n",
        "        pu_borough,\n",
        "        SUM(total_trips) as total_by_month_borough\n",
        "    FROM service_counts\n",
        "    GROUP BY year, month, pu_borough\n",
        ")\n",
        "SELECT\n",
        "    sc.year,\n",
        "    sc.month,\n",
        "    sc.pu_borough,\n",
        "    sc.service_type,\n",
        "    sc.total_trips,\n",
        "    sc.avg_fare,\n",
        "    mt.total_by_month_borough,\n",
        "    ROUND((sc.total_trips * 100.0 / mt.total_by_month_borough), 2) as service_mix_pct\n",
        "FROM service_counts sc\n",
        "JOIN monthly_totals mt\n",
        "    ON sc.year = mt.year\n",
        "    AND sc.month = mt.month\n",
        "    AND sc.pu_borough = mt.pu_borough\n",
        "ORDER BY sc.year, sc.month, sc.pu_borough, sc.service_type;\n",
        "\"\"\"\n",
        "execute_snowflake_sql(query)"
      ]
    },
    {
      "cell_type": "code",
      "execution_count": null,
      "metadata": {
        "id": "uvt7eEV-YyhO"
      },
      "outputs": [],
      "source": [
        "# K. TOP 20 FLUJOS PU→DO POR VOLUMEN Y SU TICKET PROMEDIO\n",
        "print(\"ANÁLISIS K: Top 20 Flujos PU→DO por Volumen y su Ticket Promedio\")\n",
        "\n",
        "# Top 20 flujos pickup→dropoff por volumen y ticket promedio\n",
        "top_flows_volume_ticket = (\n",
        "    df.groupBy(\"pu_borough\", \"do_borough\")\n",
        "    .agg(F.count(\"*\").alias(\"total_trips\"),\n",
        "         F.round(F.avg(\"total_amount\"), 2).alias(\"avg_ticket\"))\n",
        "    .orderBy(F.col(\"total_trips\").desc())\n",
        ")\n",
        "\n",
        "print(\"TOP 20 FLUJOS PU→DO POR VOLUMEN Y SU TICKET PROMEDIO:\")\n",
        "top_flows_volume_ticket.show(20)"
      ]
    },
    {
      "cell_type": "code",
      "execution_count": null,
      "metadata": {
        "colab": {
          "base_uri": "https://localhost:8080/"
        },
        "id": "xKD7T9Kpjr8_",
        "outputId": "5789a88e-6189-40c1-ff67-0c9afd105a21"
      },
      "outputs": [],
      "source": [
        "# K. TOP 20 FLUJOS PU→DO POR VOLUMEN Y SU TICKET PROMEDIO\n",
        "print(\"ANÁLISIS K: Top 20 Flujos PU→DO por Volumen y su Ticket Promedio\")\n",
        "\n",
        "\n",
        "# Consulta SQL directa usando conector de Snowflake\n",
        "query = \"\"\"\n",
        "SELECT\n",
        "    pu_borough,\n",
        "    do_borough,\n",
        "    COUNT(*) AS total_trips,\n",
        "    ROUND(AVG(total_amount), 2) AS avg_ticket\n",
        "FROM analytics.obt_trips\n",
        "WHERE pu_borough IS NOT NULL\n",
        "    AND do_borough IS NOT NULL\n",
        "    AND total_amount IS NOT NULL\n",
        "GROUP BY pu_borough, do_borough\n",
        "ORDER BY COUNT(*) DESC\n",
        "LIMIT 20;\n",
        "\"\"\"\n",
        "execute_snowflake_sql(query)"
      ]
    },
    {
      "cell_type": "code",
      "execution_count": null,
      "metadata": {
        "id": "g-DeyAf0Yz65"
      },
      "outputs": [],
      "source": [
        "# L. DISTRIBUCIÓN DE PASSENGER_COUNT Y EFECTO EN TOTAL_AMOUNT\n",
        "print(\"ANÁLISIS L: Distribución de Passenger_Count y Efecto en Total_Amount\")\n",
        "\n",
        "# Distribución de passenger_count y su efecto en total_amount\n",
        "passenger_distribution_effect = (\n",
        "    df.groupBy(\"passenger_count\")\n",
        "    .agg(F.count(\"*\").alias(\"total_trips\"),\n",
        "         F.round(F.avg(\"total_amount\"), 2).alias(\"avg_total_amount\"),\n",
        "         F.round(F.count(\"*\") * 100.0 / df.count(), 2).alias(\"participacion_pct\"))\n",
        "    .orderBy(\"passenger_count\")\n",
        ")\n",
        "\n",
        "print(\"DISTRIBUCIÓN DE PASSENGER_COUNT Y EFECTO EN TOTAL_AMOUNT:\")\n",
        "passenger_distribution_effect.show()"
      ]
    },
    {
      "cell_type": "code",
      "execution_count": null,
      "metadata": {
        "colab": {
          "base_uri": "https://localhost:8080/"
        },
        "id": "6SeNy_RXj-nY",
        "outputId": "550c376f-838a-4d9f-f549-d4c09fcb5d5a"
      },
      "outputs": [],
      "source": [
        "# L. DISTRIBUCIÓN DE PASSENGER_COUNT Y EFECTO EN TOTAL_AMOUNT\n",
        "print(\"ANÁLISIS L: Distribución de Passenger_Count y Efecto en Total_Amount\")\n",
        "\n",
        "\n",
        "# Consulta SQL directa usando conector de Snowflake\n",
        "query = \"\"\"\n",
        "WITH total_dataset AS (\n",
        "    SELECT COUNT(*) as total_records\n",
        "    FROM analytics.obt_trips\n",
        "    WHERE passenger_count IS NOT NULL\n",
        ")\n",
        "SELECT\n",
        "    passenger_count,\n",
        "    COUNT(*) AS total_trips,\n",
        "    ROUND(AVG(total_amount), 2) AS avg_total_amount,\n",
        "    ROUND((COUNT(*) * 100.0 / (SELECT total_records FROM total_dataset)), 2) AS participacion_pct\n",
        "FROM analytics.obt_trips\n",
        "WHERE passenger_count IS NOT NULL\n",
        "    AND total_amount IS NOT NULL\n",
        "GROUP BY passenger_count\n",
        "ORDER BY passenger_count;\n",
        "\"\"\"\n",
        "execute_snowflake_sql(query)"
      ]
    },
    {
      "cell_type": "code",
      "execution_count": null,
      "metadata": {
        "id": "hdzAI_hdY10a"
      },
      "outputs": [],
      "source": [
        "# M. IMPACTO DE TOLLS_AMOUNT Y CONGESTION_SURCHARGE POR ZONA\n",
        "print(\"ANÁLISIS M: Impacto de Tolls_Amount y Congestion_Surcharge por Zona\")\n",
        "\n",
        "# Impacto de tolls_amount y congestion_surcharge por zona de pickup\n",
        "tolls_congestion_impact_by_zone = (\n",
        "    df.groupBy(\"pu_zone\", \"pu_borough\")\n",
        "    .agg(F.count(\"*\").alias(\"total_trips\"),\n",
        "         F.round(F.avg(\"tolls_amount\"), 2).alias(\"avg_tolls_amount\"),\n",
        "         F.round(F.avg(\"congestion_surcharge\"), 2).alias(\"avg_congestion_surcharge\"),\n",
        "         F.round(F.avg(\"total_amount\"), 2).alias(\"avg_total_amount\"))\n",
        "    .orderBy(F.col(\"avg_tolls_amount\").desc(), F.col(\"avg_congestion_surcharge\").desc())\n",
        ")\n",
        "\n",
        "print(\"IMPACTO DE TOLLS_AMOUNT Y CONGESTION_SURCHARGE POR ZONA:\")\n",
        "tolls_congestion_impact_by_zone.show(20)"
      ]
    },
    {
      "cell_type": "code",
      "execution_count": null,
      "metadata": {
        "colab": {
          "base_uri": "https://localhost:8080/"
        },
        "id": "7rRY6pzXkRDn",
        "outputId": "2c1ab9de-bb3e-41d0-9033-6c0a268afcc1"
      },
      "outputs": [],
      "source": [
        "# M. IMPACTO DE TOLLS_AMOUNT Y CONGESTION_SURCHARGE POR ZONA\n",
        "print(\"ANÁLISIS M: Impacto de Tolls_Amount y Congestion_Surcharge por Zona\")\n",
        "\n",
        "# Consulta SQL directa usando conector de Snowflake\n",
        "query = \"\"\"\n",
        "SELECT\n",
        "    pu_zone,\n",
        "    pu_borough,\n",
        "    COUNT(*) AS total_trips,\n",
        "    ROUND(AVG(tolls_amount), 2) AS avg_tolls_amount,\n",
        "    ROUND(AVG(congestion_surcharge), 2) AS avg_congestion_surcharge,\n",
        "    ROUND(AVG(total_amount), 2) AS avg_total_amount\n",
        "FROM analytics.obt_trips\n",
        "WHERE pu_zone IS NOT NULL\n",
        "    AND pu_borough IS NOT NULL\n",
        "GROUP BY pu_zone, pu_borough\n",
        "ORDER BY AVG(tolls_amount) DESC, AVG(congestion_surcharge) DESC\n",
        "LIMIT 20;\n",
        "\"\"\"\n",
        "execute_snowflake_sql(query)"
      ]
    },
    {
      "cell_type": "code",
      "execution_count": null,
      "metadata": {
        "id": "c7g2qK7HY3af"
      },
      "outputs": [],
      "source": [
        "# N. PROPORCIÓN DE VIAJES CORTOS VS LARGOS POR BOROUGH Y ESTACIONALIDAD\n",
        "print(\"ANÁLISIS N: Proporción de Viajes Cortos vs Largos por Borough y Estacionalidad\")\n",
        "\n",
        "# Definir categorías de viaje (corto ≤ 3 millas, largo > 3 millas) y analizar por borough y estación\n",
        "trip_length_seasonality = (\n",
        "    df.withColumn(\"trip_category\",\n",
        "                  F.when(F.col(\"trip_distance\") <= 3, \"Corto (≤3 mi)\")\n",
        "                   .otherwise(\"Largo (>3 mi)\"))\n",
        "    .withColumn(\"season\",\n",
        "                F.when(F.col(\"month\").isin([12, 1, 2]), \"Invierno\")\n",
        "                 .when(F.col(\"month\").isin([3, 4, 5]), \"Primavera\")\n",
        "                 .when(F.col(\"month\").isin([6, 7, 8]), \"Verano\")\n",
        "                 .otherwise(\"Otoño\"))\n",
        "    .groupBy(\"pu_borough\", \"season\", \"trip_category\")\n",
        "    .agg(F.count(\"*\").alias(\"total_trips\"))\n",
        "    .withColumn(\"total_by_borough_season\", F.sum(\"total_trips\").over(F.Window.partitionBy(\"pu_borough\", \"season\")))\n",
        "    .withColumn(\"proportion_pct\", F.round((F.col(\"total_trips\") * 100.0 / F.col(\"total_by_borough_season\")), 2))\n",
        "    .orderBy(\"pu_borough\", \"season\", \"trip_category\")\n",
        ")\n",
        "\n",
        "print(\"PROPORCIÓN DE VIAJES CORTOS VS LARGOS POR BOROUGH Y ESTACIONALIDAD:\")\n",
        "trip_length_seasonality.show(50)"
      ]
    },
    {
      "cell_type": "code",
      "execution_count": null,
      "metadata": {
        "colab": {
          "base_uri": "https://localhost:8080/"
        },
        "id": "G9CfW708kb-9",
        "outputId": "f6d17ebd-f395-447a-c4e5-664e5820c363"
      },
      "outputs": [],
      "source": [
        "# N. PROPORCIÓN DE VIAJES CORTOS VS LARGOS POR BOROUGH Y ESTACIONALIDAD\n",
        "print(\"ANÁLISIS N: Proporción de Viajes Cortos vs Largos por Borough y Estacionalidad\")\n",
        "\n",
        "# Consulta SQL directa usando conector de Snowflake\n",
        "query = \"\"\"\n",
        "WITH trips_enriched AS (\n",
        "    SELECT\n",
        "        pu_borough,\n",
        "        CASE\n",
        "            WHEN month IN (12, 1, 2) THEN 'Invierno'\n",
        "            WHEN month IN (3, 4, 5) THEN 'Primavera'\n",
        "            WHEN month IN (6, 7, 8) THEN 'Verano'\n",
        "            ELSE 'Otoño'\n",
        "        END AS season,\n",
        "        CASE\n",
        "            WHEN trip_distance <= 3 THEN 'Corto (≤3 mi)'\n",
        "            ELSE 'Largo (>3 mi)'\n",
        "        END AS trip_category\n",
        "    FROM analytics.obt_trips\n",
        "    WHERE pu_borough IS NOT NULL\n",
        "      AND trip_distance IS NOT NULL\n",
        ")\n",
        "\n",
        "SELECT\n",
        "    pu_borough,\n",
        "    season,\n",
        "    trip_category,\n",
        "    COUNT(*) AS total_trips,\n",
        "    ROUND(\n",
        "        COUNT(*) * 100.0 / SUM(COUNT(*)) OVER (PARTITION BY pu_borough, season),\n",
        "        2\n",
        "    ) AS proportion_pct\n",
        "FROM trips_enriched\n",
        "GROUP BY pu_borough, season, trip_category\n",
        "ORDER BY pu_borough, season, trip_category;\n",
        "\n",
        "\"\"\"\n",
        "execute_snowflake_sql(query)"
      ]
    },
    {
      "cell_type": "code",
      "execution_count": null,
      "metadata": {
        "id": "pOo65SkvY4yT"
      },
      "outputs": [],
      "source": [
        "# O. DIFERENCIAS POR VENDOR EN AVG_SPEED_MPH Y TRIP_DURATION_MIN\n",
        "print(\"ANÁLISIS O: Diferencias por Vendor en Avg_Speed_Mph y Trip_Duration_Min\")\n",
        "\n",
        "# Análisis de diferencias por vendor en velocidad promedio y duración de viaje\n",
        "vendor_performance_comparison = (\n",
        "    df.groupBy(\"vendor_name\")\n",
        "    .agg(F.count(\"*\").alias(\"total_trips\"),\n",
        "         F.round(F.avg(\"avg_speed_mph\"), 2).alias(\"avg_speed_mph\"),\n",
        "         F.round(F.avg(\"trip_duration_min\"), 2).alias(\"avg_duration_min\"),\n",
        "         F.round(F.avg(\"trip_distance\"), 2).alias(\"avg_distance\"),\n",
        "         F.round(F.avg(\"total_amount\"), 2).alias(\"avg_total_amount\"))\n",
        "    .orderBy(F.col(\"avg_speed_mph\").desc())\n",
        ")\n",
        "\n",
        "print(\"DIFERENCIAS POR VENDOR EN AVG_SPEED_MPH Y TRIP_DURATION_MIN:\")\n",
        "vendor_performance_comparison.show()"
      ]
    },
    {
      "cell_type": "code",
      "execution_count": null,
      "metadata": {
        "colab": {
          "base_uri": "https://localhost:8080/"
        },
        "id": "iYAScRuOlA75",
        "outputId": "a3d41018-48c9-4003-c86f-514c7283293c"
      },
      "outputs": [],
      "source": [
        "# O. DIFERENCIAS POR VENDOR EN AVG_SPEED_MPH Y TRIP_DURATION_MIN\n",
        "print(\"ANÁLISIS O: Diferencias por Vendor en Avg_Speed_Mph y Trip_Duration_Min\")\n",
        "\n",
        "# Consulta SQL directa usando conector de Snowflake\n",
        "query = \"\"\"\n",
        "SELECT\n",
        "    vendor_name,\n",
        "    COUNT(*) AS total_trips,\n",
        "    ROUND(AVG(avg_speed_mph), 2) AS avg_speed_mph,\n",
        "    ROUND(AVG(trip_duration_min), 2) AS avg_duration_min,\n",
        "    ROUND(AVG(trip_distance), 2) AS avg_distance,\n",
        "    ROUND(AVG(total_amount), 2) AS avg_total_amount\n",
        "FROM analytics.obt_trips\n",
        "WHERE vendor_name IS NOT NULL\n",
        "GROUP BY vendor_name\n",
        "ORDER BY avg_speed_mph DESC;\n",
        "\"\"\"\n",
        "execute_snowflake_sql(query)"
      ]
    },
    {
      "cell_type": "code",
      "execution_count": null,
      "metadata": {
        "id": "9Bd-5mPzY6JH"
      },
      "outputs": [],
      "source": [
        "# P. RELACIÓN MÉTODO DE PAGO ↔ TIP_AMOUNT POR HORA\n",
        "print(\"ANÁLISIS P: Relación Método de Pago ↔ Tip_Amount por Hora\")\n",
        "\n",
        "# Análisis de la relación entre método de pago y cantidad de propina por hora del día\n",
        "payment_tip_hourly_relationship = (\n",
        "    df.groupBy(\"pickup_hour\", \"payment_type_desc\")\n",
        "    .agg(F.count(\"*\").alias(\"total_trips\"),\n",
        "         F.round(F.avg(\"tip_amount\"), 2).alias(\"avg_tip_amount\"),\n",
        "         F.round(F.avg(\"tip_pct\"), 2).alias(\"avg_tip_pct\"),\n",
        "         F.round(F.avg(\"total_amount\"), 2).alias(\"avg_total_amount\"))\n",
        "    .orderBy(\"pickup_hour\", F.col(\"avg_tip_amount\").desc())\n",
        ")\n",
        "\n",
        "print(\"RELACIÓN MÉTODO DE PAGO ↔ TIP_AMOUNT POR HORA:\")\n",
        "payment_tip_hourly_relationship.show(50)"
      ]
    },
    {
      "cell_type": "code",
      "execution_count": null,
      "metadata": {
        "colab": {
          "base_uri": "https://localhost:8080/"
        },
        "id": "tS2Cxpt_lVGR",
        "outputId": "b285302c-8f94-423a-964a-42dbaab52691"
      },
      "outputs": [],
      "source": [
        "# P. RELACIÓN MÉTODO DE PAGO ↔ TIP_AMOUNT POR HORA\n",
        "print(\"ANÁLISIS P: Relación Método de Pago ↔ Tip_Amount por Hora\")\n",
        "\n",
        "# Consulta SQL directa usando conector de Snowflake\n",
        "query = \"\"\"\n",
        "SELECT\n",
        "    pickup_hour,\n",
        "    payment_type_desc,\n",
        "    COUNT(*) AS total_trips,\n",
        "    ROUND(AVG(tip_amount), 2) AS avg_tip_amount,\n",
        "    ROUND(AVG(tip_pct), 2) AS avg_tip_pct,\n",
        "    ROUND(AVG(total_amount), 2) AS avg_total_amount\n",
        "FROM analytics.obt_trips\n",
        "WHERE pickup_hour IS NOT NULL\n",
        "    AND payment_type_desc IS NOT NULL\n",
        "GROUP BY pickup_hour, payment_type_desc\n",
        "ORDER BY pickup_hour, AVG(tip_amount) DESC\n",
        "LIMIT 50;\n",
        "\"\"\"\n",
        "execute_snowflake_sql(query)"
      ]
    },
    {
      "cell_type": "code",
      "execution_count": null,
      "metadata": {
        "id": "wpK5jOXMY7wl"
      },
      "outputs": [],
      "source": [
        "# Q. ZONAS CON PERCENTIL 99 DE DURACIÓN/DISTANCIA FUERA DE RANGO (POSIBLE CONGESTIÓN/EVENTOS)\n",
        "print(\"ANÁLISIS Q: Zonas con Percentil 99 de Duración/Distancia fuera de Rango (Posible Congestión/Eventos)\")\n",
        "\n",
        "# Identificar zonas con P99 extremos que podrían indicar congestión severa o eventos especiales\n",
        "zones_p99_outliers = (\n",
        "    df.groupBy(\"pu_zone\", \"pu_borough\")\n",
        "    .agg(F.count(\"*\").alias(\"total_trips\"),\n",
        "         F.round(F.expr(\"percentile_approx(trip_duration_min, 0.99)\"), 2).alias(\"p99_duration\"),\n",
        "         F.round(F.expr(\"percentile_approx(trip_distance, 0.99)\"), 2).alias(\"p99_distance\"),\n",
        "         F.round(F.avg(\"trip_duration_min\"), 2).alias(\"avg_duration\"),\n",
        "         F.round(F.avg(\"trip_distance\"), 2).alias(\"avg_distance\"),\n",
        "         F.round(F.avg(\"avg_speed_mph\"), 2).alias(\"avg_speed\"))\n",
        "    .withColumn(\"duration_outlier_ratio\", F.round(F.col(\"p99_duration\") / F.col(\"avg_duration\"), 2))\n",
        "    .withColumn(\"distance_outlier_ratio\", F.round(F.col(\"p99_distance\") / F.col(\"avg_distance\"), 2))\n",
        "    .filter((F.col(\"duration_outlier_ratio\") > 5) | (F.col(\"distance_outlier_ratio\") > 4) | (F.col(\"p99_duration\") > 120))\n",
        "    .orderBy(F.col(\"duration_outlier_ratio\").desc(), F.col(\"distance_outlier_ratio\").desc())\n",
        ")\n",
        "\n",
        "print(\"ZONAS CON PERCENTIL 99 DE DURACIÓN/DISTANCIA FUERA DE RANGO:\")\n",
        "zones_p99_outliers.show(20)"
      ]
    },
    {
      "cell_type": "code",
      "execution_count": null,
      "metadata": {
        "colab": {
          "base_uri": "https://localhost:8080/"
        },
        "id": "Kvtx5cialgbU",
        "outputId": "353fe169-fd26-446b-c5d3-bd0505f092cc"
      },
      "outputs": [],
      "source": [
        "# Q. ZONAS CON PERCENTIL 99 DE DURACIÓN/DISTANCIA FUERA DE RANGO (POSIBLE CONGESTIÓN/EVENTOS)\n",
        "print(\"ANÁLISIS Q: Zonas con Percentil 99 de Duración/Distancia fuera de Rango (Posible Congestión/Eventos)\")\n",
        "\n",
        "# Consulta SQL directa usando conector de Snowflake\n",
        "query = \"\"\"\n",
        "WITH zone_metrics AS (\n",
        "    SELECT\n",
        "        pu_zone,\n",
        "        pu_borough,\n",
        "        COUNT(*) AS total_trips,\n",
        "        APPROX_PERCENTILE(trip_duration_min, 0.99) AS p99_duration,\n",
        "        APPROX_PERCENTILE(trip_distance, 0.99) AS p99_distance,\n",
        "        ROUND(AVG(trip_duration_min), 2) AS avg_duration,\n",
        "        ROUND(AVG(trip_distance), 2) AS avg_distance,\n",
        "        ROUND(AVG(avg_speed_mph), 2) AS avg_speed\n",
        "    FROM analytics.obt_trips\n",
        "    WHERE pu_zone IS NOT NULL\n",
        "      AND pu_borough IS NOT NULL\n",
        "      AND trip_duration_min > 0\n",
        "      AND trip_distance > 0\n",
        "    GROUP BY pu_zone, pu_borough\n",
        ")\n",
        "SELECT\n",
        "    pu_zone,\n",
        "    pu_borough,\n",
        "    total_trips,\n",
        "    ROUND(p99_duration, 2) AS p99_duration,\n",
        "    ROUND(p99_distance, 2) AS p99_distance,\n",
        "    avg_duration,\n",
        "    avg_distance,\n",
        "    avg_speed,\n",
        "    ROUND(p99_duration / NULLIF(avg_duration, 0), 2) AS duration_outlier_ratio,\n",
        "    ROUND(p99_distance / NULLIF(avg_distance, 0), 2) AS distance_outlier_ratio\n",
        "FROM zone_metrics\n",
        "WHERE (p99_duration / NULLIF(avg_duration, 0) > 5)\n",
        "   OR (p99_distance / NULLIF(avg_distance, 0) > 4)\n",
        "   OR (p99_duration > 120)\n",
        "ORDER BY duration_outlier_ratio DESC, distance_outlier_ratio DESC\n",
        "LIMIT 20;\n",
        "\"\"\"\n",
        "execute_snowflake_sql(query)"
      ]
    },
    {
      "cell_type": "code",
      "execution_count": null,
      "metadata": {
        "id": "qllgRgFXY9Q6"
      },
      "outputs": [],
      "source": [
        "# R. YIELD POR MILLA (TOTAL_AMOUNT/TRIP_DISTANCE) POR BOROUGH Y HORA\n",
        "print(\"ANÁLISIS R: Yield por Milla (Total_Amount/Trip_Distance) por Borough y Hora\")\n",
        "\n",
        "# Análisis del yield por milla (rentabilidad por distancia) por borough y hora del día\n",
        "yield_per_mile_by_borough_hour = (\n",
        "    df.filter(F.col(\"trip_distance\") > 0)  # Evitar divisiones por cero\n",
        "    .groupBy(\"pu_borough\", \"pickup_hour\")\n",
        "    .agg(F.count(\"*\").alias(\"total_trips\"),\n",
        "         F.round(F.avg(F.col(\"total_amount\") / F.col(\"trip_distance\")), 2).alias(\"yield_per_mile\"),\n",
        "         F.round(F.avg(\"total_amount\"), 2).alias(\"avg_total_amount\"),\n",
        "         F.round(F.avg(\"trip_distance\"), 2).alias(\"avg_trip_distance\"),\n",
        "         F.round(F.avg(\"tip_pct\"), 2).alias(\"avg_tip_pct\"))\n",
        "    .orderBy(\"pu_borough\", F.col(\"yield_per_mile\").desc())\n",
        ")\n",
        "\n",
        "print(\"YIELD POR MILLA (TOTAL_AMOUNT/TRIP_DISTANCE) POR BOROUGH Y HORA:\")\n",
        "yield_per_mile_by_borough_hour.show(50)"
      ]
    },
    {
      "cell_type": "code",
      "execution_count": null,
      "metadata": {
        "colab": {
          "base_uri": "https://localhost:8080/"
        },
        "id": "kmOJZsdclvJx",
        "outputId": "e7e046e9-0de5-4407-f800-a93621e6a85f"
      },
      "outputs": [],
      "source": [
        "# R. YIELD POR MILLA (TOTAL_AMOUNT/TRIP_DISTANCE) POR BOROUGH Y HORA\n",
        "print(\"ANÁLISIS R: Yield por Milla (Total_Amount/Trip_Distance) por Borough y Hora\")\n",
        "\n",
        "# Consulta SQL directa usando conector de Snowflake\n",
        "query = \"\"\"\n",
        "SELECT\n",
        "    pu_borough,\n",
        "    pickup_hour,\n",
        "    COUNT(*) AS total_trips,\n",
        "    ROUND(AVG(total_amount / trip_distance), 2) AS yield_per_mile,\n",
        "    ROUND(AVG(total_amount), 2) AS avg_total_amount,\n",
        "    ROUND(AVG(trip_distance), 2) AS avg_trip_distance,\n",
        "    ROUND(AVG(tip_pct), 2) AS avg_tip_pct\n",
        "FROM analytics.obt_trips\n",
        "WHERE trip_distance > 0\n",
        "    AND pu_borough IS NOT NULL\n",
        "    AND pickup_hour IS NOT NULL\n",
        "GROUP BY pu_borough, pickup_hour\n",
        "ORDER BY pu_borough, AVG(total_amount / trip_distance) DESC\n",
        "LIMIT 50;\n",
        "\"\"\"\n",
        "execute_snowflake_sql(query)"
      ]
    },
    {
      "cell_type": "code",
      "execution_count": null,
      "metadata": {
        "id": "VIA4A3ZmY_Lu"
      },
      "outputs": [],
      "source": [
        "# S. CAMBIOS YOY EN VOLUMEN Y TICKET PROMEDIO POR SERVICE_TYPE\n",
        "print(\"ANÁLISIS S: Cambios YoY en Volumen y Ticket Promedio por Service_Type\")\n",
        "\n",
        "# Análisis de cambios año a año en volumen de viajes y ticket promedio por tipo de servicio\n",
        "yoy_volume_ticket_changes = (\n",
        "    df.groupBy(\"year\", \"service_type\")\n",
        "    .agg(F.count(\"*\").alias(\"total_trips\"),\n",
        "         F.round(F.avg(\"total_amount\"), 2).alias(\"avg_ticket\"),\n",
        "         F.round(F.sum(\"total_amount\"), 2).alias(\"total_revenue\"))\n",
        "    .withColumn(\"prev_year_trips\", F.lag(\"total_trips\").over(F.Window.partitionBy(\"service_type\").orderBy(\"year\")))\n",
        "    .withColumn(\"prev_year_ticket\", F.lag(\"avg_ticket\").over(F.Window.partitionBy(\"service_type\").orderBy(\"year\")))\n",
        "    .withColumn(\"volume_change_pct\", F.round(((F.col(\"total_trips\") - F.col(\"prev_year_trips\")) / F.col(\"prev_year_trips\")) * 100, 2))\n",
        "    .withColumn(\"ticket_change_pct\", F.round(((F.col(\"avg_ticket\") - F.col(\"prev_year_ticket\")) / F.col(\"prev_year_ticket\")) * 100, 2))\n",
        "    .orderBy(\"service_type\", \"year\")\n",
        ")\n",
        "\n",
        "print(\"CAMBIOS YOY EN VOLUMEN Y TICKET PROMEDIO POR SERVICE_TYPE:\")\n",
        "yoy_volume_ticket_changes.show(50)"
      ]
    },
    {
      "cell_type": "code",
      "execution_count": null,
      "metadata": {
        "colab": {
          "base_uri": "https://localhost:8080/"
        },
        "id": "UuwYtqrFl9PD",
        "outputId": "8060d6b6-14c0-4d9f-bef3-1e7ec053024b"
      },
      "outputs": [],
      "source": [
        "# S. CAMBIOS YOY EN VOLUMEN Y TICKET PROMEDIO POR SERVICE_TYPE\n",
        "print(\"ANÁLISIS S: Cambios YoY en Volumen y Ticket Promedio por Service_Type\")\n",
        "\n",
        "# Consulta SQL directa usando conector de Snowflake\n",
        "query = \"\"\"\n",
        "WITH yearly_metrics AS (\n",
        "    SELECT\n",
        "        year,\n",
        "        service_type,\n",
        "        COUNT(*) as total_trips,\n",
        "        ROUND(AVG(total_amount), 2) as avg_ticket,\n",
        "        ROUND(SUM(total_amount), 2) as total_revenue\n",
        "    FROM analytics.obt_trips\n",
        "    WHERE service_type IS NOT NULL\n",
        "    GROUP BY year, service_type\n",
        ")\n",
        "SELECT\n",
        "    year,\n",
        "    service_type,\n",
        "    total_trips,\n",
        "    avg_ticket,\n",
        "    total_revenue,\n",
        "    LAG(total_trips) OVER (PARTITION BY service_type ORDER BY year) as prev_year_trips,\n",
        "    LAG(avg_ticket) OVER (PARTITION BY service_type ORDER BY year) as prev_year_ticket,\n",
        "    ROUND(((total_trips - LAG(total_trips) OVER (PARTITION BY service_type ORDER BY year)) * 100.0 /\n",
        "           LAG(total_trips) OVER (PARTITION BY service_type ORDER BY year)), 2) as volume_change_pct,\n",
        "    ROUND(((avg_ticket - LAG(avg_ticket) OVER (PARTITION BY service_type ORDER BY year)) * 100.0 /\n",
        "           LAG(avg_ticket) OVER (PARTITION BY service_type ORDER BY year)), 2) as ticket_change_pct\n",
        "FROM yearly_metrics\n",
        "ORDER BY service_type, year\n",
        "LIMIT 50;\n",
        "\"\"\"\n",
        "execute_snowflake_sql(query)"
      ]
    },
    {
      "cell_type": "code",
      "execution_count": null,
      "metadata": {
        "id": "GM3N8BD-ZAbj"
      },
      "outputs": [],
      "source": [
        "# T. DÍAS CON ALTA CONGESTION_SURCHARGE - EFECTO EN TOTAL_AMOUNT VS DÍAS NORMALES\n",
        "print(\"ANÁLISIS T: Días con Alta Congestion_Surcharge - Efecto en Total_Amount vs Días Normales\")\n",
        "\n",
        "# Análisis del efecto de la congestión en el total_amount comparando días con alta congestión vs días normales\n",
        "congestion_effect_analysis = (\n",
        "    df.withColumn(\"has_congestion\", F.when(F.col(\"congestion_surcharge\") > 0, \"Con Congestión\").otherwise(\"Sin Congestión\"))\n",
        "    .groupBy(\"pickup_date\", \"has_congestion\")\n",
        "    .agg(F.count(\"*\").alias(\"total_trips\"),\n",
        "         F.round(F.avg(\"total_amount\"), 2).alias(\"avg_total_amount\"),\n",
        "         F.round(F.avg(\"congestion_surcharge\"), 2).alias(\"avg_congestion_surcharge\"),\n",
        "         F.round(F.avg(\"trip_duration_min\"), 2).alias(\"avg_duration\"),\n",
        "         F.round(F.avg(\"avg_speed_mph\"), 2).alias(\"avg_speed\"))\n",
        "    .withColumn(\"daily_trips\", F.sum(\"total_trips\").over(F.Window.partitionBy(\"pickup_date\")))\n",
        "    .withColumn(\"congestion_pct\", F.round((F.col(\"total_trips\") * 100.0 / F.col(\"daily_trips\")), 2))\n",
        "    .filter(F.col(\"has_congestion\") == \"Con Congestión\")\n",
        "    .withColumn(\"high_congestion_day\", F.when(F.col(\"congestion_pct\") >= 30, \"Día Alta Congestión\").otherwise(\"Día Normal\"))\n",
        "    .orderBy(\"pickup_date\")\n",
        ")\n",
        "\n",
        "print(\"DÍAS CON ALTA CONGESTION_SURCHARGE - EFECTO EN TOTAL_AMOUNT VS DÍAS NORMALES:\")\n",
        "congestion_effect_analysis.show(50)"
      ]
    },
    {
      "cell_type": "code",
      "execution_count": null,
      "metadata": {
        "colab": {
          "base_uri": "https://localhost:8080/"
        },
        "id": "nATMn0U5mITH",
        "outputId": "1392f824-26e6-4ea1-f0f1-8048f99a63e9"
      },
      "outputs": [],
      "source": [
        "# T. DÍAS CON ALTA CONGESTION_SURCHARGE - EFECTO EN TOTAL_AMOUNT VS DÍAS NORMALES\n",
        "print(\"ANÁLISIS T: Días con Alta Congestion_Surcharge - Efecto en Total_Amount vs Días Normales\")\n",
        "\n",
        "query = \"\"\"\n",
        "WITH daily_stats AS (\n",
        "    SELECT\n",
        "        pickup_date,\n",
        "        CASE WHEN congestion_surcharge > 0 THEN 'Con Congestión' ELSE 'Sin Congestión' END AS has_congestion,\n",
        "        COUNT(*) AS total_trips,\n",
        "        ROUND(AVG(total_amount), 2) AS avg_total_amount,\n",
        "        ROUND(AVG(congestion_surcharge), 2) AS avg_congestion_surcharge,\n",
        "        ROUND(AVG(trip_duration_min), 2) AS avg_duration,\n",
        "        ROUND(AVG(avg_speed_mph), 2) AS avg_speed\n",
        "    FROM analytics.obt_trips\n",
        "    WHERE pickup_date IS NOT NULL\n",
        "    GROUP BY pickup_date, has_congestion\n",
        "),\n",
        "with_daily_totals AS (\n",
        "    SELECT\n",
        "        *,\n",
        "        SUM(total_trips) OVER (PARTITION BY pickup_date) AS daily_trips,\n",
        "        ROUND((total_trips * 100.0 / SUM(total_trips) OVER (PARTITION BY pickup_date)), 2) AS congestion_pct\n",
        "    FROM daily_stats\n",
        ")\n",
        "SELECT\n",
        "    pickup_date,\n",
        "    has_congestion,\n",
        "    total_trips,\n",
        "    avg_total_amount,\n",
        "    avg_congestion_surcharge,\n",
        "    avg_duration,\n",
        "    avg_speed,\n",
        "    daily_trips,\n",
        "    congestion_pct,\n",
        "    CASE WHEN congestion_pct >= 30 THEN 'Día Alta Congestión' ELSE 'Día Normal' END AS high_congestion_day\n",
        "FROM with_daily_totals\n",
        "WHERE has_congestion = 'Con Congestión'\n",
        "ORDER BY pickup_date\n",
        "LIMIT 50;\n",
        "\"\"\"\n",
        "execute_snowflake_sql(query)"
      ]
    },
    {
      "cell_type": "code",
      "execution_count": null,
      "metadata": {
        "id": "bQhed99AmL5W"
      },
      "outputs": [],
      "source": []
    }
  ],
  "metadata": {
    "colab": {
      "provenance": []
    },
    "kernelspec": {
      "display_name": "Python 3",
      "name": "python3"
    },
    "language_info": {
      "name": "python"
    }
  },
  "nbformat": 4,
  "nbformat_minor": 0
}
